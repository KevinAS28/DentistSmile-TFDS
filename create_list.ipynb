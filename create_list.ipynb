{
 "cells": [
  {
   "cell_type": "code",
   "execution_count": null,
   "metadata": {},
   "outputs": [],
   "source": [
    "import os"
   ]
  },
  {
   "cell_type": "code",
   "execution_count": null,
   "metadata": {},
   "outputs": [],
   "source": [
    "identified_classes = ['Sisa Akar', 'Gigi Hilang', 'Karies', 'Lingkar Mulut (Labeling)']"
   ]
  },
  {
   "cell_type": "code",
   "execution_count": null,
   "metadata": {},
   "outputs": [],
   "source": [
    "def get_img_rn_ext(name):\n",
    "  try:\n",
    "    underscore_splitted = name.split('_')\n",
    "    if len(underscore_splitted)==1:\n",
    "      rn, ext = name.split('.')\n",
    "      cls = None\n",
    "    else:\n",
    "      rn, cls_ext = underscore_splitted\n",
    "      cls, ext = cls_ext.split('.')\n",
    "    return rn, cls, ext\n",
    "  except Exception as e:\n",
    "    print(f'error {name}: {str(e)}')\n",
    "    raise Exception()\n",
    "\n",
    "ic_info = dict()\n",
    "\n",
    "for ic in identified_classes:\n",
    "  print('class: ', ic)\n",
    "  ic_info[ic] = {'extensions': set(), 'img_names': dict()}\n",
    "\n",
    "  images_in_ic = os.listdir(ic)\n",
    "  for img_name in images_in_ic:\n",
    "    rn, cls, ext = get_img_rn_ext(img_name)\n",
    "    ic_info[ic]['extensions'].add(ext)\n",
    "    ic_info[ic]['img_names'][img_name] = f'{rn}.{ext}'\n"
   ]
  }
 ],
 "metadata": {
  "language_info": {
   "name": "python"
  },
  "orig_nbformat": 4
 },
 "nbformat": 4,
 "nbformat_minor": 2
}
